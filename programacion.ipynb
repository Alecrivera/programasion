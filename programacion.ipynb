{
  "nbformat": 4,
  "nbformat_minor": 0,
  "metadata": {
    "colab": {
      "provenance": []
    },
    "kernelspec": {
      "name": "python3",
      "display_name": "Python 3"
    },
    "language_info": {
      "name": "python"
    }
  },
  "cells": [
    {
      "cell_type": "code",
      "execution_count": null,
      "metadata": {
        "id": "fLcrBpS9Gj-p"
      },
      "outputs": [],
      "source": [
        "**LEGUAJE Y ALGORITMO**\n",
        "\n",
        "Lenguaje de progamacion\n",
        "\n",
        "* c\n",
        "* c++\n",
        "* Fortram\n",
        "* Delphi\n",
        "\n",
        "**Algoritmo**\n",
        "\n",
        "Conjunto de posos, procedimirnto o acciones que nos permite alcanzar un\n",
        "resultado o resolver un problema\n",
        "\n",
        "Carecteristicas:\n",
        "\n",
        " Determinado\n",
        " Peresiscion\n",
        " Finitud\n",
        "\n",
        " (cariro et al., 1993)\n",
        "\n",
        " **DATOS**\n",
        "\n",
        " valores entre y valores reales.\n",
        " valores que pueden estas prosedimintos por los signos(+-)\n",
        "\n",
        "\n",
        " 128 152z -714 8 530 -14 789\n",
        " 7.5 128.0  -37.865   129.7    16 000.50\n",
        "\n",
        " **DATOS ALFANUMERRIOS**\n",
        " *Caracter\n",
        " *Cadena\n",
        "\n",
        " (a,b,c...2)\n",
        " (0,1,2,3...9)\n",
        " (#, ?, $, %, *, etc)\n",
        "\n",
        "   'a' 'B' '$' '9' 'H'\n",
        "\n",
        "  ¨abc¨ \"$9#7\" \"Heeeectoooo \" \"Patroclo!!!\" \"754-27-22\""
      ]
    },
    {
      "cell_type": "markdown",
      "source": [],
      "metadata": {
        "id": "tAH5cwWNPGV7"
      }
    },
    {
      "cell_type": "markdown",
      "source": [
        "**LEGUAJE Y ALGORITMO**\n",
        "\n",
        "Lenguaje de progamacion\n",
        "\n",
        "* c\n",
        "* c++\n",
        "* Fortram\n",
        "* Delphi\n",
        "\n",
        "**Algoritmo**\n",
        "\n",
        "Conjunto de posos, procedimirnto o acciones que nos permite alcanzar un\n",
        "resultado o resolver un problema\n",
        "\n",
        "Carecteristicas:\n",
        "\n",
        " Determinado\n",
        " Peresiscion\n",
        " Finitud\n",
        "\n",
        " (cariro et al., 1993)\n",
        "\n",
        " **DATOS**\n",
        "\n",
        " valores entre y valores reales.\n",
        " valores que pueden estas prosedimintos por los signos(+-)\n",
        "\n",
        "\n",
        " 128 152z -714 8 530 -14 789\n",
        " 7.5 128.0  -37.865   129.7    16 000.50\n",
        "\n",
        " **DATOS ALFANUMERRIOS**\n",
        " *Caracter\n",
        " *Cadena\n",
        "\n",
        " (a,b,c...2)\n",
        " (0,1,2,3...9)\n",
        " (#, ?, $, %, *, etc)\n",
        "\n",
        "   'a' 'B' '$' 'H'\n",
        "  \n",
        "  ¨abc¨ \"$9#7\" \"Heeeectoooo \" \"Patroclo!!!\" \"754-27-22\""
      ],
      "metadata": {
        "id": "Cz-9BIIPOETa"
      }
    },
    {
      "cell_type": "code",
      "source": [
        "#tipos de variable en phython\n",
        "#Eltipo de variable estar determinado por el tipo de dato que almacena\n",
        "#Entorno: vasta agregar un valor entero\n",
        "\n",
        "a=10\n",
        "b=11\n",
        "\n",
        "#Decimal: deben agregarse a un nuevo numero con punto flotante\n",
        "c=3.1416\n",
        "print(c)\n",
        "\n",
        "\n",
        "#Booleanos: Datos con verdadero o false\n",
        "#se puede usar palabras: true false\n",
        "\n",
        "verdad=1\n",
        "Falso=0\n",
        "\n",
        "\n",
        "#texto o cadena string\n",
        "saludo= \"hola mundo\"\n",
        "print(saludo)\n",
        "\n",
        "nombre=\"Juan\"\n",
        "print(saludo)\n",
        "\n",
        "uno= \"a\"\n",
        "dos=\"b\""
      ],
      "metadata": {
        "colab": {
          "base_uri": "https://localhost:8080/"
        },
        "id": "n98wAlyDOct7",
        "outputId": "30ae28a1-2efd-4154-94fb-fac6755ccdb2"
      },
      "execution_count": 3,
      "outputs": [
        {
          "output_type": "stream",
          "name": "stdout",
          "text": [
            "3.1416\n",
            "hola mundo\n",
            "hola mundo\n"
          ]
        }
      ]
    },
    {
      "cell_type": "markdown",
      "source": [
        "# Sección nueva"
      ],
      "metadata": {
        "id": "eA2jZi8uTO8c"
      }
    },
    {
      "cell_type": "markdown",
      "source": [],
      "metadata": {
        "id": "bDCD_TYaN-Vy"
      }
    }
  ]
}